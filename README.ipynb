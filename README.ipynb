{
 "cells": [
  {
   "cell_type": "markdown",
   "id": "9dd77978",
   "metadata": {},
   "source": [
    "## Overview of the analysis"
   ]
  },
  {
   "cell_type": "markdown",
   "id": "06a6abab",
   "metadata": {},
   "source": [
    "### The basic requirements of this analysis is the visualization of Pyber data. We will create a summary DataFrame of the ride-sharing data by city type and providing graphs of changes of fares by year according to three city types. This will help people see how the city type influence of fares."
   ]
  },
  {
   "cell_type": "markdown",
   "id": "8fb8f0cc",
   "metadata": {},
   "source": [
    "#### The basic requirements of this analysis is the visualization of Pyber data. We will create a summary DataFrame of the ride-sharing data by city type and providing graphs of changes of fares by year according to three city types. This will help people see how the city type influence of fares."
   ]
  },
  {
   "cell_type": "markdown",
   "id": "b112c1e7",
   "metadata": {},
   "source": [
    "## Results"
   ]
  },
  {
   "cell_type": "markdown",
   "id": "590162a4",
   "metadata": {},
   "source": [
    "### In the first part of teh project, we created summary of DataFrame in which we included Total,Rides, Total Drivers, Avareaeg Fares by rides and AVerage fares by Drivers according to three city types (Urban, Suburban and Rural) as shown in teh following table."
   ]
  },
  {
   "cell_type": "markdown",
   "id": "d43020b8",
   "metadata": {},
   "source": [
    "### From the table, Urban city type had high numbers of total rides, drivers and total amounts of fares followed by Suburban, then Rural which had the least amount of rides, drivers and the amount of fares. However, in terms of average fares by rides or drivers, Rural had the more significant amounts of fares compared to Urban and Suburban. "
   ]
  },
  {
   "cell_type": "markdown",
   "id": "76cff8a6",
   "metadata": {},
   "source": [
    "### Second part of the project will create multi-line charts in which changes of fares were aganist the date that included 2019 Janruary to May. In terms of total fares, Urban was at the top, then Suburban, and then Rural which was at the bottom. This indicated that total amounts of fares were higher in Urban, since Urban ahd many rides and drivers. In terms of months, there was a big jump of fares between February and March, and interestingly at May all city types had dropped in total fares. "
   ]
  },
  {
   "cell_type": "markdown",
   "id": "55b663b4",
   "metadata": {},
   "source": [
    "## Summary"
   ]
  },
  {
   "cell_type": "markdown",
   "id": "476cb98e",
   "metadata": {},
   "source": [
    "### The basic summary is followed: (a) the more rides and dirvers  the city has, the more total amount fares. In this case urban had more rides and drivers and also had more total amount of fares. (b) In terms of average fares, the city has less number of rides and drivers will have less amounts of average fares.(c) the changes of fares depends on the months in which some months had more and some are less."
   ]
  },
  {
   "cell_type": "code",
   "execution_count": null,
   "id": "9a0c8941",
   "metadata": {},
   "outputs": [],
   "source": []
  }
 ],
 "metadata": {
  "kernelspec": {
   "display_name": "Python 3 (ipykernel)",
   "language": "python",
   "name": "python3"
  },
  "language_info": {
   "codemirror_mode": {
    "name": "ipython",
    "version": 3
   },
   "file_extension": ".py",
   "mimetype": "text/x-python",
   "name": "python",
   "nbconvert_exporter": "python",
   "pygments_lexer": "ipython3",
   "version": "3.9.7"
  }
 },
 "nbformat": 4,
 "nbformat_minor": 5
}
